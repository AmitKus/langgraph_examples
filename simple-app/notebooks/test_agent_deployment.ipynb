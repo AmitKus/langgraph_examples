{
 "cells": [
  {
   "cell_type": "markdown",
   "metadata": {},
   "source": [
    "## Starting the server\n",
    "%pip install -U langgraph-cli\n",
    "\n",
    "```langgraph build -t my-image```\n",
    "\n",
    "```docker compose up```\n"
   ]
  },
  {
   "cell_type": "markdown",
   "metadata": {},
   "source": [
    "## Making requests to server"
   ]
  },
  {
   "cell_type": "code",
   "execution_count": 1,
   "metadata": {},
   "outputs": [],
   "source": [
    "%pip install -U langchain\n",
    "%pip install -U langgraph_sdk"
   ]
  },
  {
   "cell_type": "code",
   "execution_count": 2,
   "metadata": {},
   "outputs": [],
   "source": [
    "from langgraph_sdk import get_client\n",
    "\n",
    "url_for_cli_deployment = \"http://localhost:8123\"\n",
    "client = get_client(url=url_for_cli_deployment)"
   ]
  },
  {
   "cell_type": "code",
   "execution_count": 3,
   "metadata": {},
   "outputs": [
    {
     "name": "stdout",
     "output_type": "stream",
     "text": [
      "[]\n"
     ]
    },
    {
     "data": {
      "text/plain": [
       "{'thread_id': 'a85056be-e2c8-4b5d-9a9f-811ae88315f8',\n",
       " 'created_at': '2025-01-12T15:33:43.046398+00:00',\n",
       " 'updated_at': '2025-01-12T15:33:43.046398+00:00',\n",
       " 'metadata': {},\n",
       " 'status': 'idle',\n",
       " 'config': {},\n",
       " 'values': None,\n",
       " 'interrupts': {}}"
      ]
     },
     "execution_count": 3,
     "metadata": {},
     "output_type": "execute_result"
    }
   ],
   "source": [
    "# Crate thread\n",
    "thread = await client.threads.create()\n",
    "runs = await client.runs.list(thread_id=thread['thread_id'])\n",
    "print(runs)\n",
    "thread"
   ]
  },
  {
   "cell_type": "code",
   "execution_count": 4,
   "metadata": {},
   "outputs": [],
   "source": [
    "from langchain_core.messages import HumanMessage\n",
    "user_input = \"What is 2+3? Then add 60. Then add 90. Then add 160. Then add 450.\"\n",
    "config = {\"configurable\":{\"user_id\":\"Test\"}}\n",
    "graph_name = \"agent\"\n",
    "run = await client.runs.create(thread[\"thread_id\"], graph_name, input={\"messages\":[HumanMessage(content=user_input)]},config=config)"
   ]
  },
  {
   "cell_type": "code",
   "execution_count": 6,
   "metadata": {},
   "outputs": [
    {
     "name": "stdout",
     "output_type": "stream",
     "text": [
      "565155315765The result of the given operations is 765."
     ]
    }
   ],
   "source": [
    "user_input = \"What is 2+3? Then add 60. Then add 90. Then add 160. Then add 450.\"\n",
    "async for chunk in client.runs.stream(thread[\"thread_id\"], \n",
    "                                      graph_name, \n",
    "                                      input={\"messages\": [HumanMessage(content=user_input)]},\n",
    "                                      config=config,\n",
    "                                      stream_mode=\"messages-tuple\"):\n",
    "\n",
    "    if chunk.event == \"messages\":\n",
    "        print(\"\".join(data_item['content'] for data_item in chunk.data if 'content' in data_item), end=\"\", flush=True)"
   ]
  },
  {
   "cell_type": "code",
   "execution_count": 7,
   "metadata": {},
   "outputs": [
    {
     "name": "stdout",
     "output_type": "stream",
     "text": [
      "================================\u001b[1m Human Message \u001b[0m=================================\n",
      "\n",
      "What is 2+3? Then add 60. Then add 90. Then add 160. Then add 450.\n",
      "==================================\u001b[1m Ai Message \u001b[0m==================================\n",
      "Tool Calls:\n",
      "  add (call_zxs7)\n",
      " Call ID: call_zxs7\n",
      "  Args:\n",
      "    a: 2\n",
      "    b: 3\n",
      "  add (call_nwrv)\n",
      " Call ID: call_nwrv\n",
      "  Args:\n",
      "    a: 5\n",
      "    b: 60\n",
      "  add (call_b7nm)\n",
      " Call ID: call_b7nm\n",
      "  Args:\n",
      "    a: 65\n",
      "    b: 90\n",
      "  add (call_dphv)\n",
      " Call ID: call_dphv\n",
      "  Args:\n",
      "    a: 155\n",
      "    b: 160\n",
      "  add (call_7h1g)\n",
      " Call ID: call_7h1g\n",
      "  Args:\n",
      "    a: 315\n",
      "    b: 450\n",
      "=================================\u001b[1m Tool Message \u001b[0m=================================\n",
      "Name: add\n",
      "\n",
      "5\n",
      "=================================\u001b[1m Tool Message \u001b[0m=================================\n",
      "Name: add\n",
      "\n",
      "65\n",
      "=================================\u001b[1m Tool Message \u001b[0m=================================\n",
      "Name: add\n",
      "\n",
      "155\n",
      "=================================\u001b[1m Tool Message \u001b[0m=================================\n",
      "Name: add\n",
      "\n",
      "315\n",
      "=================================\u001b[1m Tool Message \u001b[0m=================================\n",
      "Name: add\n",
      "\n",
      "765\n",
      "==================================\u001b[1m Ai Message \u001b[0m==================================\n",
      "\n",
      "The result of the given operations is 765.\n",
      "================================\u001b[1m Human Message \u001b[0m=================================\n",
      "\n",
      "What is 2+3? Then add 60. Then add 90. Then add 160. Then add 450.\n",
      "==================================\u001b[1m Ai Message \u001b[0m==================================\n",
      "Tool Calls:\n",
      "  add (call_dx9q)\n",
      " Call ID: call_dx9q\n",
      "  Args:\n",
      "    a: 2\n",
      "    b: 3\n",
      "  add (call_tqej)\n",
      " Call ID: call_tqej\n",
      "  Args:\n",
      "    a: 5\n",
      "    b: 60\n",
      "  add (call_73ch)\n",
      " Call ID: call_73ch\n",
      "  Args:\n",
      "    a: 65\n",
      "    b: 90\n",
      "  add (call_k9pj)\n",
      " Call ID: call_k9pj\n",
      "  Args:\n",
      "    a: 155\n",
      "    b: 160\n",
      "  add (call_4q8w)\n",
      " Call ID: call_4q8w\n",
      "  Args:\n",
      "    a: 315\n",
      "    b: 450\n",
      "=================================\u001b[1m Tool Message \u001b[0m=================================\n",
      "Name: add\n",
      "\n",
      "5\n",
      "=================================\u001b[1m Tool Message \u001b[0m=================================\n",
      "Name: add\n",
      "\n",
      "65\n",
      "=================================\u001b[1m Tool Message \u001b[0m=================================\n",
      "Name: add\n",
      "\n",
      "155\n",
      "=================================\u001b[1m Tool Message \u001b[0m=================================\n",
      "Name: add\n",
      "\n",
      "315\n",
      "=================================\u001b[1m Tool Message \u001b[0m=================================\n",
      "Name: add\n",
      "\n",
      "765\n",
      "==================================\u001b[1m Ai Message \u001b[0m==================================\n",
      "\n",
      "The result of the given operations is 765.\n"
     ]
    }
   ],
   "source": [
    "from langchain_core.messages import convert_to_messages\n",
    "thread_state = await client.threads.get_state(thread['thread_id'])\n",
    "for m in convert_to_messages(thread_state['values']['messages']):\n",
    "    m.pretty_print()"
   ]
  },
  {
   "cell_type": "code",
   "execution_count": null,
   "metadata": {},
   "outputs": [],
   "source": []
  }
 ],
 "metadata": {
  "kernelspec": {
   "display_name": "langgraph_course",
   "language": "python",
   "name": "python3"
  },
  "language_info": {
   "codemirror_mode": {
    "name": "ipython",
    "version": 3
   },
   "file_extension": ".py",
   "mimetype": "text/x-python",
   "name": "python",
   "nbconvert_exporter": "python",
   "pygments_lexer": "ipython3",
   "version": "3.13.1"
  }
 },
 "nbformat": 4,
 "nbformat_minor": 2
}
